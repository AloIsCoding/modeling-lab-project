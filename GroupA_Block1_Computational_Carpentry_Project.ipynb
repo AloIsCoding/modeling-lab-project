<<<<<<< HEAD
{
 "cells": [
  {
   "cell_type": "code",
   "execution_count": null,
   "id": "6c3b8642",
   "metadata": {},
   "outputs": [],
   "source": [
    "#let' get started la tcheam"
   ]
  }
 ],
 "metadata": {
  "kernelspec": {
   "display_name": "base",
   "language": "python",
   "name": "python3"
  },
  "language_info": {
   "name": "python",
   "version": "3.12.7"
  }
 },
 "nbformat": 4,
 "nbformat_minor": 5
}
=======
##Computational Carpentry Project
>>>>>>> 6b91b55bbbeaba46d74786a321468d8691f83636
