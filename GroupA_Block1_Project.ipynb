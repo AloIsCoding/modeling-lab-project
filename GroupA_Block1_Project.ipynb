{
 "cells": [
  {
   "cell_type": "code",
   "execution_count": null,
   "id": "dea036c6",
   "metadata": {},
   "outputs": [],
   "source": [
    "#mettez vos import les starssssss\n",
    "import numpy as np \n",
    "import matplotlib.pyplot as plt\n",
    "import pandas as pd\n",
    "from random import uniform\n",
    "from math import sqrt\n",
    "from pathlib import Path\n",
    "\n"
   ]
  },
  {
   "cell_type": "markdown",
   "id": "d7eae1cb",
   "metadata": {},
   "source": [
    "## Part A - Data Structures and functions"
   ]
  },
  {
   "cell_type": "markdown",
   "id": "dafeae3c",
   "metadata": {},
   "source": [
    "## Part B - Stoichiometry and reaction balancing"
   ]
  },
  {
   "cell_type": "markdown",
   "id": "457c8404",
   "metadata": {},
   "source": [
    "# Part C- Simulation and Modeling\n",
    "## Monte Carlo π estimation \n",
    "\n",
    "First a function to estimate π using the Monte Carlo estimation:"
   ]
  },
  {
   "cell_type": "code",
   "execution_count": null,
   "id": "e4067c1f",
   "metadata": {},
   "outputs": [
    {
     "name": "stdout",
     "output_type": "stream",
     "text": [
      "3.138064\n"
     ]
    }
   ],
   "source": [
    "def estimate_pi(N):\n",
    "    nbr_in_circle=0\n",
    "    for i in range (N):\n",
    "        #generates the coordinates of the random point shooted.\n",
    "        x=uniform(-1, 1)\n",
    "        y=uniform(-1, 1)\n",
    "        #checks that the point is in the cicle and counts the nbr of point in circle\n",
    "        if sqrt(x**2+y**2)<=1:\n",
    "            nbr_in_circle+= 1\n",
    "    #using the hint and area formula:\n",
    "    pi= 4*(nbr_in_circle/N)\n",
    "    return pi\n",
    "\n",
    "print(estimate_pi(1000000000))\n"
   ]
  },
  {
   "cell_type": "markdown",
   "id": "98d8f9ee",
   "metadata": {},
   "source": [
    "Then the convergence of the estimate versus N the number of total points in the square was ploted:"
   ]
  },
  {
   "cell_type": "code",
   "execution_count": 14,
   "id": "54131145",
   "metadata": {},
   "outputs": [
    {
     "data": {
      "image/png": "[encoded data removed]",
      "text/plain": [
       "<Figure size 640x480 with 1 Axes>"
      ]
     },
     "metadata": {},
     "output_type": "display_data"
    }
   ],
   "source": [
    "x=[]\n",
    "y=[]\n",
    "\n",
    "for i in range (10000):\n",
    "    #took i + 1 to avoid division be 0\n",
    "    x.append (i+1)\n",
    "    y.append(estimate_pi(i+1))\n",
    "\n",
    "plt.plot(x,y)\n",
    "plt.xlabel(\"estimate of pi\")\n",
    "plt.ylabel(\"number of points in the square\")\n",
    "plt.show()"
   ]
  },
  {
   "cell_type": "markdown",
   "id": "5751f550",
   "metadata": {},
   "source": [
    "## Chemistry-inspired Monte Carlo\n",
    "\n",
    "In order to simulate M molecular collision in a box, the first approach that came to mind was to represent molecule by points randomly generated and count the overlaps as collisions.\n",
    "\n",
    "However this approach neglects the size of molecules, thus one can consider a specific radius for each molecule.\n",
    "\n",
    "Furthermore this approach only stresses on a fixed moment, as known molecule have velocities and move around which is why they collide in the first place. \n",
    "Despite neglecting that aspect, this approach is closer to what one would do in mecanical statistics, thus we will start with this method. "
   ]
  },
  {
   "cell_type": "code",
   "execution_count": 17,
   "id": "315bf0bd",
   "metadata": {},
   "outputs": [
    {
     "name": "stdout",
     "output_type": "stream",
     "text": [
      "the reaction probability is 0.813953488372093\n"
     ]
    }
   ],
   "source": [
    "#we consider that all the molecule have the same size\n",
    "M=int(input(\"enter the number of molecule in the system\"))\n",
    "r=float(input(\"raddius of the molecules\"))\n",
    "\n",
    "a=int(input(\"width of the box\"))\n",
    "b=int(input(\"height of the box\"))\n",
    "\n",
    "c=float(input(\"lowest collision energy\"))\n",
    "d=float(input(\"highest collision energy\"))\n",
    "\n",
    "E=float(input(\"Threshold energy\"))\n",
    "\n",
    "all_mole_box=[]\n",
    "collision_energy=[]\n",
    "high_E_collision=0\n",
    "#raandomly placing M molecules\n",
    "for i in range(M):\n",
    "    x=uniform(0, a)\n",
    "    y=uniform(0, b)\n",
    "    all_mole_box.append((x,y))\n",
    "#comparing the distance of all molecules between eachother \n",
    "#if the distance between two molecule is smaller than the radius we consider a collision\n",
    "for elem1 in all_mole_box:\n",
    "     for elem2 in all_mole_box:\n",
    "          if sqrt((elem1[0]-elem2[0])**2+(elem1[1]-elem2[1])**2)<r:\n",
    "               collision_energy.append(uniform(c,d))\n",
    "               if collision_energy[-1]>E:\n",
    "                    high_E_collision+=1\n",
    "\n",
    "print(\"the reaction probability is\", high_E_collision/len(collision_energy))\n",
    "                    \n",
    "\n"
   ]
  },
  {
   "cell_type": "markdown",
   "id": "f0455b48",
   "metadata": {},
   "source": [
    "This code could be improved by, as mentionned earlier taking into account the velocity of the particules, but it could also be improved by specifying ratios of different species having different radius to be more accurate. "
   ]
  },
  {
   "cell_type": "markdown",
   "id": "2b9f7f80",
   "metadata": {},
   "source": [
    "# Sources:\n",
    "\n",
    "1: https://www.casio-education.fr/wp-content/uploads/2021/03/fiche-pratique-python-random.pdf\n",
    "\n",
    "2: https://python.doctor/page-creer-graphiques-scientifiques-python-apprendre\n",
    "\n",
    "3: https://www.epfl.ch/labs/lnq/wp-content/uploads/2025/07/stat_mech.pdf\n",
    "\n",
    "\n"
   ]
  }
 ],
 "metadata": {
  "kernelspec": {
   "display_name": "base",
   "language": "python",
   "name": "python3"
  },
  "language_info": {
   "codemirror_mode": {
    "name": "ipython",
    "version": 3
   },
   "file_extension": ".py",
   "mimetype": "text/x-python",
   "name": "python",
   "nbconvert_exporter": "python",
   "pygments_lexer": "ipython3",
   "version": "3.12.7"
  }
 },
 "nbformat": 4,
 "nbformat_minor": 5
}
