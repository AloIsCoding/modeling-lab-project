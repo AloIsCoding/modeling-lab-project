{
 "cells": [
  {
   "cell_type": "code",
   "execution_count": null,
   "id": "dea036c6",
   "metadata": {},
   "outputs": [],
   "source": [
    "#mettez vos import les starssssss\n",
    "import numpy as np \n"
   ]
  },
  {
   "cell_type": "markdown",
   "id": "457c8404",
   "metadata": {},
   "source": [
    "# Part C- Modeling and Simulation"
   ]
  },
  {
   "cell_type": "code",
   "execution_count": null,
   "id": "e4067c1f",
   "metadata": {},
   "outputs": [],
   "source": []
  }
 ],
 "metadata": {
  "language_info": {
   "name": "python"
  }
 },
 "nbformat": 4,
 "nbformat_minor": 5
}
