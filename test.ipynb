{
 "cells": [
  {
   "cell_type": "code",
   "execution_count": null,
   "id": "dea036c6",
   "metadata": {},
   "outputs": [],
   "source": [
    "#yesssssssss\n"
   ]
  }
 ],
 "metadata": {
  "language_info": {
   "name": "python"
  }
 },
 "nbformat": 4,
 "nbformat_minor": 5
}
