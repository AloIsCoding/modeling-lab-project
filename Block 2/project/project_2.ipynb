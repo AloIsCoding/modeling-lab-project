{
 "cells": [
  {
   "cell_type": "markdown",
   "id": "dd540cc8",
   "metadata": {},
   "source": [
    "# Project Report\n",
    "\n",
    "## Introduction\n",
    "In recent years, carbon capture and sequestration (CCS) has been recognized as a promising solution to mitigate climate change. This project focuses on the Pressure Swing Adsorption/Vacuum Swing Adsorption (PSA/VSA) process to capture CO2 from post-combustion power plant flue gas using Metal Organic Frameworks (MOFs) as sorbents.\n",
    "\n",
    "## Methodology\n",
    "The study utilizes optimized MOF structures (Mg-MOF-74, NOTT-300, UTSA-20, UTSA-80, ZIF-8) with calculated charges, employing simulation parameters such as Zeo++ volpo samples (10,000), number of Widom cycles (50,000), number of GCMC initialization cycles (500), number of GCMC production cycles (5,000), maximum distance between pressure points (0.6), and pressure range (0.2 to 10.2 bars) at 25°C."
   ]
  },
  {
   "cell_type": "code",
   "execution_count": 26,
   "id": "8a9e8e35",
   "metadata": {},
   "outputs": [],
   "source": [
    "import pyiast\n",
    "import pandas as pd\n",
    "import numpy as np\n",
    "import matplotlib.pyplot as plt\n",
    "from cycler import cycler\n"
   ]
  },
  {
   "cell_type": "markdown",
   "id": "fd1ad1e6",
   "metadata": {},
   "source": [
    "## Question 1: Compute the density, accessible surface area (ASA), accessible probe-occupiable volume (POAV), and porosity"
   ]
  },
  {
   "cell_type": "code",
   "execution_count": 27,
   "id": "d2d1a405",
   "metadata": {},
   "outputs": [
    {
     "name": "stdout",
     "output_type": "stream",
     "text": [
      "Mg-MOF-74: Density = insert data from Mg CO2.csv or Mg N2.csv g/cm^3, ASA = insert ASA data if available A^2, POAV = insert data from Mg CO2.csv or Mg N2.csv A^3, Porosity = insert data from Mg CO2.csv or Mg N2.csv\n",
      "NOTT-300: Density = insert data from NOTT CO2.csv or NOTT N2.csv g/cm^3, ASA = insert ASA data if available A^2, POAV = insert data from NOTT CO2.csv or NOTT N2.csv A^3, Porosity = insert data from NOTT CO2.csv or NOTT N2.csv\n",
      "UTSA-20: Density = insert data from utsa 20 CO2.csv or UTSA 20 N2.csv g/cm^3, ASA = insert ASA data if available A^2, POAV = insert data from utsa 20 CO2.csv or UTSA 20 N2.csv A^3, Porosity = insert data from utsa 20 CO2.csv or UTSA 20 N2.csv\n",
      "ZIF-8: Density = insert data from ZIF CO2.csv or ZIF N2.csv g/cm^3, ASA = insert ASA data if available A^2, POAV = insert data from ZIF CO2.csv or ZIF N2.csv A^3, Porosity = insert data from ZIF CO2.csv or ZIF N2.csv\n",
      "UTSA-80: Density = insert data from UTSA 80 CO2.csv or UTSA 80 N2.csv g/cm^3, ASA = insert ASA data if available A^2, POAV = insert data from UTSA 80 CO2.csv or UTSA 80 N2.csv A^3, Porosity = insert data from UTSA 80 CO2.csv or UTSA 80 N2.csv\n"
     ]
    }
   ],
   "source": [
    "# Question 1: Compute density, ASA, POAV, and porosity\n",
    "# Insert paths to your CSV files from the ZIP here (e.g., parse 'Density', 'POAV_A^3', 'POAV_Volume_fraction' from each CSV)\n",
    "properties = {\n",
    "    'Mg-MOF-74': {'density': 'insert data from Mg CO2.csv or Mg N2.csv', 'asa': 'insert ASA data if available', 'poav': 'insert data from Mg CO2.csv or Mg N2.csv', 'porosity': 'insert data from Mg CO2.csv or Mg N2.csv'},\n",
    "    'NOTT-300': {'density': 'insert data from NOTT CO2.csv or NOTT N2.csv', 'asa': 'insert ASA data if available', 'poav': 'insert data from NOTT CO2.csv or NOTT N2.csv', 'porosity': 'insert data from NOTT CO2.csv or NOTT N2.csv'},\n",
    "    'UTSA-20': {'density': 'insert data from utsa 20 CO2.csv or UTSA 20 N2.csv', 'asa': 'insert ASA data if available', 'poav': 'insert data from utsa 20 CO2.csv or UTSA 20 N2.csv', 'porosity': 'insert data from utsa 20 CO2.csv or UTSA 20 N2.csv'},\n",
    "    'ZIF-8': {'density': 'insert data from ZIF CO2.csv or ZIF N2.csv', 'asa': 'insert ASA data if available', 'poav': 'insert data from ZIF CO2.csv or ZIF N2.csv', 'porosity': 'insert data from ZIF CO2.csv or ZIF N2.csv'},\n",
    "    'UTSA-80': {'density': 'insert data from UTSA 80 CO2.csv or UTSA 80 N2.csv', 'asa': 'insert ASA data if available', 'poav': 'insert data from UTSA 80 CO2.csv or UTSA 80 N2.csv', 'porosity': 'insert data from UTSA 80 CO2.csv or UTSA 80 N2.csv'}\n",
    "}\n",
    "\n",
    "structures = ['Mg-MOF-74', 'NOTT-300', 'UTSA-20', 'ZIF-8', 'UTSA-80']\n",
    "for struct in structures:\n",
    "    print(f\"{struct}: Density = {properties[struct]['density']} g/cm^3, ASA = {properties[struct]['asa']} A^2, POAV = {properties[struct]['poav']} A^3, Porosity = {properties[struct]['porosity']}\")\n",
    "# Note: If ASA is not in CSVs, run pore analysis with probe radius 1.525Å as per PDF"
   ]
  },
  {
   "cell_type": "markdown",
   "id": "96646ae4",
   "metadata": {},
   "source": [
    "## Question 2: Compute the Henry coefficients for CO2 and N2 at 25°C, rank the structures based on their affinity for CO2"
   ]
  },
  {
   "cell_type": "code",
   "execution_count": 28,
   "id": "8f6967d9",
   "metadata": {},
   "outputs": [
    {
     "name": "stdout",
     "output_type": "stream",
     "text": [
      "Ranking based on CO2 Henry coefficients: ['UTSA-20', 'ZIF-8', 'UTSA-80', 'NOTT-300', 'Mg-MOF-74']\n"
     ]
    }
   ],
   "source": [
    "# Question 2: Compute Henry coefficients and rank\n",
    "# Insert Henry coefficients from CSVs (e.g., 'henry_coefficient_average' key, convert units if needed)\n",
    "henry_co2 = {\n",
    "    'Mg-MOF-74': 'insert data from Mg CO2.csv',\n",
    "    'NOTT-300': 'insert data from NOTT CO2.csv',\n",
    "    'UTSA-20': 'insert data from utsa 20 CO2.csv',\n",
    "    'ZIF-8': 'insert data from ZIF CO2.csv',\n",
    "    'UTSA-80': 'insert data from UTSA 80 CO2.csv'\n",
    "}\n",
    "henry_n2 = {\n",
    "    'Mg-MOF-74': 'insert data from Mg N2.csv',\n",
    "    'NOTT-300': 'insert data from NOTT N2.csv',\n",
    "    'UTSA-20': 'insert data from UTSA 20 N2.csv',\n",
    "    'ZIF-8': 'insert data from ZIF N2.csv (or None if not porous)',\n",
    "    'UTSA-80': 'insert data from UTSA 80 N2.csv'\n",
    "}\n",
    "\n",
    "henry_co2_ranking = sorted(henry_co2.items(), key=lambda x: x[1], reverse=True)\n",
    "print(\"Ranking based on CO2 Henry coefficients:\", [x[0] for x in henry_co2_ranking])"
   ]
  },
  {
   "cell_type": "markdown",
   "id": "4ccf439d",
   "metadata": {},
   "source": [
    "## Question 3: Compute CO2 and N2 pure component isotherms at 25°C for the given structures, plot the pure isotherms"
   ]
  },
  {
   "cell_type": "code",
   "execution_count": null,
   "id": "978d06d2",
   "metadata": {},
   "outputs": [],
   "source": [
    "# Question 3: Plot pure isotherms\n",
    "# Load isotherms from CSVs (parse 'isotherm' key, which is a JSON string with 'pressure' and 'loading_absolute_average')\n",
    "# Example: df_mg_co2 = pd.read_json('insert path to parsed isotherm from Mg CO2.csv')\n",
    "df_mg_co2 = pd.DataFrame({'pressure': 'insert data here', 'loading': 'insert data here'})  # From Mg CO2.csv isotherm\n",
    "df_nott_co2 = pd.DataFrame({'pressure': 'insert data here', 'loading': 'insert data here'})  # From NOTT CO2.csv isotherm\n",
    "df_utsa20_co2 = pd.DataFrame({'pressure': 'insert data here', 'loading': 'insert data here'})  # From utsa 20 CO2.csv isotherm\n",
    "df_zif_co2 = pd.DataFrame({'pressure': 'insert data here', 'loading': 'insert data here'})  # From ZIF CO2.csv isotherm\n",
    "df_utsa80_co2 = pd.DataFrame({'pressure': 'insert data here', 'loading': 'insert data here'})  # From UTSA 80 CO2.csv isotherm\n",
    "\n",
    "df_mg_n2 = pd.DataFrame({'pressure': 'insert data here', 'loading': 'insert data here'})  # From Mg N2.csv isotherm\n",
    "df_nott_n2 = pd.DataFrame({'pressure': 'insert data here', 'loading': 'insert data here'})  # From NOTT N2.csv isotherm\n",
    "df_utsa20_n2 = pd.DataFrame({'pressure': 'insert data here', 'loading': 'insert data here'})  # From UTSA 20 N2.csv isotherm\n",
    "df_utsa80_n2 = pd.DataFrame({'pressure': 'insert data here', 'loading': 'insert data here'})  # From UTSA 80 N2.csv isotherm\n",
    "df_zif_n2 = pd.DataFrame({'pressure': 'insert data here', 'loading': 'insert data here'})  # From ZIF N2.csv (may be empty)\n",
    "\n",
    "# Fit isotherms using pyiast as in example notebook\n",
    "# Example: MG_CO2_IT = pyiast.InterpolatorIsotherm(df_mg_co2, loading_key=\"loading\", pressure_key=\"pressure\")\n",
    "MG_CO2_IT = 'insert fitted isotherm for Mg-MOF-74 CO2'  # Fit here\n",
    "NOTT_CO2_IT = 'insert fitted isotherm for NOTT-300 CO2'\n",
    "UTSA20_CO2_IT = 'insert fitted isotherm for UTSA-20 CO2'\n",
    "ZIF_CO2_IT = 'insert fitted isotherm for ZIF-8 CO2'\n",
    "UTSA80_CO2_IT = 'insert fitted isotherm for UTSA-80 CO2'\n",
    "\n",
    "MG_N2_IT = 'insert fitted isotherm for Mg-MOF-74 N2'\n",
    "NOTT_N2_IT = 'insert fitted isotherm for NOTT-300 N2'\n",
    "UTSA20_N2_IT = 'insert fitted isotherm for UTSA-20 N2'\n",
    "ZIF_N2_IT = 'insert fitted isotherm for ZIF-8 N2'  # May be None\n",
    "UTSA80_N2_IT = 'insert fitted isotherm for UTSA-80 N2'\n",
    "\n",
    "# Plot\n",
    "plt.figure()\n",
    "for name, df in [('Mg-MOF-74 CO2', df_mg_co2), ('NOTT-300 CO2', df_nott_co2), ('UTSA-20 CO2', df_utsa20_co2), \n",
    "                 ('ZIF-8 CO2', df_zif_co2), ('UTSA-80 CO2', df_utsa80_co2), ('Mg-MOF-74 N2', df_mg_n2), \n",
    "                 ('NOTT-300 N2', df_nott_n2), ('UTSA-20 N2', df_utsa20_n2), ('UTSA-80 N2', df_utsa80_n2)]:\n",
    "    if len(df) > 0:\n",
    "        plt.plot(df['pressure'], df['loading'], label=name)\n",
    "plt.xlabel('Pressure (bar)')\n",
    "plt.ylabel('Loading (mol/kg)')\n",
    "plt.legend()\n",
    "plt.show()"
   ]
  },
  {
   "cell_type": "markdown",
   "id": "34823315",
   "metadata": {},
   "source": [
    "## Question 4: Calculate the CO2 working capacity (WC) for the different structures"
   ]
  },
  {
   "cell_type": "code",
   "execution_count": null,
   "id": "dc66f487",
   "metadata": {},
   "outputs": [],
   "source": [
    "# Question 4: Calculate CO2 working capacity\n",
    "P_ads = 1.0  # Adsorption pressure in bar\n",
    "P_des = 0.2  # Desorption pressure in bar\n",
    "y_CO2 = 0.15\n",
    "y_N2 = 0.85\n",
    "\n",
    "# Use fitted isotherms from Question 3\n",
    "# Example WC calculation as in example notebook: q_ads_MG = pyiast.iast([P_ads * y_CO2, P_ads * y_N2], [MG_CO2_IT, MG_N2_IT])[0]\n",
    "q_ads_MG = 'insert calculation using MG_CO2_IT and MG_N2_IT'\n",
    "q_des_MG = 'insert calculation using MG_CO2_IT and MG_N2_IT'\n",
    "MG_WC = q_ads_MG - q_des_MG\n",
    "\n",
    "q_ads_NOTT = 'insert calculation using NOTT_CO2_IT and NOTT_N2_IT'\n",
    "q_des_NOTT = 'insert calculation using NOTT_CO2_IT and NOTT_N2_IT'\n",
    "NOTT_WC = q_ads_NOTT - q_des_NOTT\n",
    "\n",
    "q_ads_UTSA20 = 'insert calculation using UTSA20_CO2_IT and UTSA20_N2_IT'\n",
    "q_des_UTSA20 = 'insert calculation using UTSA20_CO2_IT and UTSA20_N2_IT'\n",
    "UTSA20_WC = q_ads_UTSA20 - q_des_UTSA20\n",
    "\n",
    "q_ads_ZIF = 'insert calculation using ZIF_CO2_IT and ZIF_N2_IT'\n",
    "q_des_ZIF = 'insert calculation using ZIF_CO2_IT and ZIF_N2_IT'\n",
    "ZIF_WC = q_ads_ZIF - q_des_ZIF\n",
    "\n",
    "q_ads_UTSA80 = 'insert calculation using UTSA80_CO2_IT and UTSA80_N2_IT'\n",
    "q_des_UTSA80 = 'insert calculation using UTSA80_CO2_IT and UTSA80_N2_IT'\n",
    "UTSA80_WC = q_ads_UTSA80 - q_des_UTSA80\n",
    "\n",
    "wc_values = {'Mg-MOF-74': MG_WC, 'NOTT-300': NOTT_WC, 'UTSA-20': UTSA20_WC, 'ZIF-8': ZIF_WC, 'UTSA-80': UTSA80_WC}\n",
    "print(\"Working Capacities (mol/kg):\", wc_values)"
   ]
  },
  {
   "cell_type": "markdown",
   "id": "980f1198",
   "metadata": {},
   "source": [
    "## Question 5: Calculate the CO2/N2 selectivity (S) for the different structures"
   ]
  },
  {
   "cell_type": "code",
   "execution_count": null,
   "id": "018e6c0f",
   "metadata": {},
   "outputs": [],
   "source": [
    "# Question 5: Calculate CO2/N2 selectivity\n",
    "# Use fitted isotherms from Question 3\n",
    "# Example selectivity as in example notebook: S_ads_MG = (q_ads_MG[0] / q_ads_MG[1]) * (y_N2 / y_CO2)\n",
    "S_ads_MG = 'insert calculation using q_ads_MG from Question 4'\n",
    "S_ads_NOTT = 'insert calculation using q_ads_NOTT from Question 4'\n",
    "S_ads_UTSA20 = 'insert calculation using q_ads_UTSA20 from Question 4'\n",
    "S_ads_ZIF = 'insert calculation using q_ads_ZIF from Question 4 (or inf if no N2)'\n",
    "S_ads_UTSA80 = 'insert calculation using q_ads_UTSA80 from Question 4'\n",
    "\n",
    "s_values = {'Mg-MOF-74': S_ads_MG, 'NOTT-300': S_ads_NOTT, 'UTSA-20': S_ads_UTSA20, 'ZIF-8': S_ads_ZIF, 'UTSA-80': S_ads_UTSA80}\n",
    "print(\"Selectivities:\", s_values)"
   ]
  },
  {
   "cell_type": "markdown",
   "id": "d2f640b9",
   "metadata": {},
   "source": [
    "## Question 6: Rank the structures using a WC vs. S plot"
   ]
  },
  {
   "cell_type": "code",
   "execution_count": null,
   "id": "a22d164c",
   "metadata": {},
   "outputs": [],
   "source": [
    "# Question 6: Rank structures using WC vs. S plot\n",
    "# Use values from Questions 4 and 5\n",
    "S_ads_tot = np.array([S_ads_MG, S_ads_NOTT, S_ads_UTSA20, S_ads_UTSA80, S_ads_ZIF])\n",
    "WC_tot = np.array([MG_WC, NOTT_WC, UTSA20_WC, UTSA80_WC, ZIF_WC])\n",
    "\n",
    "plt.scatter(S_ads_tot, WC_tot)\n",
    "plt.text(S_ads_MG, MG_WC, \"Mg-MOF-74\", color=\"red\", horizontalalignment='right')\n",
    "plt.text(S_ads_NOTT, NOTT_WC, \"NOTT-300\", color=\"blue\", horizontalalignment='right')\n",
    "plt.text(S_ads_UTSA20, UTSA20_WC, \"UTSA-20\", color=\"green\", horizontalalignment='left')\n",
    "plt.text(S_ads_UTSA80, UTSA80_WC, \"UTSA-80\", color=\"cyan\", horizontalalignment='left')\n",
    "plt.text(S_ads_ZIF, ZIF_WC, \"ZIF-8\", color=\"black\", horizontalalignment='left')\n",
    "\n",
    "plt.xlabel(\"Selectivity\")\n",
    "plt.ylabel(\"Working Capacity (mol/kg)\")\n",
    "plt.show()"
   ]
  },
  {
   "cell_type": "markdown",
   "id": "78abbc8f",
   "metadata": {},
   "source": [
    "## Question 7: Is the screening model conclusive as to which material performs best in a PSA/VSA process for post-combustion CO2 capture? Discuss the level at which the screening was performed and come up with more complex key performance indicators"
   ]
  },
  {
   "cell_type": "markdown",
   "id": "c8d431f5",
   "metadata": {},
   "source": [
    "The screening model provides a preliminary ranking based on working capacity and selectivity, but it is not conclusive for determining the best material for PSA/VSA processes. The analysis is conducted at a basic level, using ideal adsorption isotherms and simplified conditions (25°C, fixed pressures). The lack of N2 adsorption data for ZIF-8 limits its selectivity assessment. More complex key performance indicators (KPIs) could include energy consumption during adsorption/desorption cycles, material stability under repeated use, cost-effectiveness, and kinetic performance. These factors should be integrated for a comprehensive evaluation."
   ]
  },
  {
   "cell_type": "markdown",
   "id": "79d63d73",
   "metadata": {},
   "source": [
    "## Question 8: Organization of the report\n",
    "1. Introduction: Overview of CCS and PSA/VSA technology\n",
    "2. Methodology: Simulation parameters and data analysis\n",
    "3. Question 1: Density, ASA, POAV, porosity\n",
    "4. Question 2: Henry coefficients and CO2 affinity ranking\n",
    "5. Question 3: CO2 and N2 isotherms\n",
    "6. Question 4: CO2 working capacity\n",
    "7. Question 5: CO2/N2 selectivity\n",
    "8. Question 6: WC vs. S ranking\n",
    "9. Question 7: Discussion on screening model and advanced KPIs\n",
    "10. Conclusion: Summary of findings"
   ]
  }
 ],
 "metadata": {
  "kernelspec": {
   "display_name": "base",
   "language": "python",
   "name": "python3"
  },
  "language_info": {
   "codemirror_mode": {
    "name": "ipython",
    "version": 3
   },
   "file_extension": ".py",
   "mimetype": "text/x-python",
   "name": "python",
   "nbconvert_exporter": "python",
   "pygments_lexer": "ipython3",
   "version": "3.12.3"
  }
 },
 "nbformat": 4,
 "nbformat_minor": 5
}
