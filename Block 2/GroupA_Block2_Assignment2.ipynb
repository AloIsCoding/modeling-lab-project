{
 "cells": [
  {
   "cell_type": "markdown",
   "id": "976b6be2",
   "metadata": {},
   "source": [
    "## Adsoorption using AiiDAlab\n",
    "# Question 1:\n",
    "\n",
    "AiiDAlab provides multiple ways to study adsorption. The three main type of calculation AiiDAlab uses are: XX, XX and XX\n",
    "\n",
    "# Question 8\n",
    "\n",
    "\n"
   ]
  }
 ],
 "metadata": {
  "language_info": {
   "name": "python"
  }
 },
 "nbformat": 4,
 "nbformat_minor": 5
}
