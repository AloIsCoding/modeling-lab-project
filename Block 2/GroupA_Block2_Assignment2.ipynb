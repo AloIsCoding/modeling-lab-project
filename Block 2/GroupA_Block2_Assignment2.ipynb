{
 "cells": [
  {
   "cell_type": "code",
   "execution_count": 3,
   "id": "e4ad23b9",
   "metadata": {},
   "outputs": [],
   "source": [
    "import numpy as np \n",
    "import matplotlib.pyplot as plt\n",
    "import pandas as pd\n",
    "import csv"
   ]
  },
  {
   "cell_type": "markdown",
   "id": "976b6be2",
   "metadata": {},
   "source": [
    "## Adsoorption using AiiDAlab\n",
    "# Question 1:\n",
    "\n",
    "AiiDAlab provides multiple ways to study adsorption. The three main type of calculation AiiDAlab uses are: XX, XX and XX\n",
    "\n",
    "# Question 2:\n",
    "\n",
    "\n"
   ]
  },
  {
   "cell_type": "code",
   "execution_count": 8,
   "id": "ec13a3ab",
   "metadata": {},
   "outputs": [
    {
     "name": "stdout",
     "output_type": "stream",
     "text": [
      "   Probe radius[A]  Density[g/cm^3]  Accesible Surface Area[A^2]  \\\n",
      "0            1.525         0.576983                          0.0   \n",
      "\n",
      "   Accessible preocupable volume [A^3]  Porosity  \n",
      "0                              13428.1       0.0  \n"
     ]
    }
   ],
   "source": [
    "data = {'Probe radius[A]': [1.525] ,'Density[g/cm^3]':[0.576983], 'Accesible Surface Area[A^2]':[0.0], 'Accessible preocupable volume [A^3]': [13428.1] , 'Porosity': [0.0]}\n",
    "\n",
    "values= pd.DataFrame(data)\n",
    "print(values)\n"
   ]
  },
  {
   "cell_type": "code",
   "execution_count": 9,
   "id": "4dafe19a",
   "metadata": {},
   "outputs": [
    {
     "name": "stdout",
     "output_type": "stream",
     "text": [
      "  molecules  Henry coefficients at 300k\n",
      "0      CO_2                         0.0\n",
      "1      CH_4                         0.0\n"
     ]
    }
   ],
   "source": [
    "Henry_Co={'molecules': [\"CO_2\",\"CH_4\"],'Henry coefficients at 300k':[0.0, 0.0]}\n",
    "\n",
    "henr= pd.DataFrame(Henry_Co)\n",
    "print(henr)"
   ]
  },
  {
   "cell_type": "markdown",
   "id": "daeec234",
   "metadata": {},
   "source": [
    "One can notice that the Henry coefficient for C0_2 is XX than CH_4 at 300 K, this observation comes from the fact that XX. \n",
    "\n",
    "# Question 3"
   ]
  },
  {
   "cell_type": "code",
   "execution_count": null,
   "id": "85f89f85",
   "metadata": {},
   "outputs": [],
   "source": []
  }
 ],
 "metadata": {
  "kernelspec": {
   "display_name": "base",
   "language": "python",
   "name": "python3"
  },
  "language_info": {
   "codemirror_mode": {
    "name": "ipython",
    "version": 3
   },
   "file_extension": ".py",
   "mimetype": "text/x-python",
   "name": "python",
   "nbconvert_exporter": "python",
   "pygments_lexer": "ipython3",
   "version": "3.12.7"
  }
 },
 "nbformat": 4,
 "nbformat_minor": 5
}
