{
 "cells": [
  {
   "cell_type": "code",
   "execution_count": null,
   "id": "7d5a3a8e",
   "metadata": {},
   "outputs": [],
   "source": [
    "#mettez tout vos import ici les ptites starssssss\n",
    "import numpy as np \n",
    "\n",
    "\n"
   ]
  },
  {
   "cell_type": "markdown",
   "id": "9d0519ae",
   "metadata": {},
   "source": [
    "\n",
    "\n"
   ]
  },
  {
   "cell_type": "code",
   "execution_count": null,
   "id": "df7a6169",
   "metadata": {},
   "outputs": [],
   "source": []
  }
 ],
 "metadata": {
  "language_info": {
   "name": "python"
  }
 },
 "nbformat": 4,
 "nbformat_minor": 5
}
