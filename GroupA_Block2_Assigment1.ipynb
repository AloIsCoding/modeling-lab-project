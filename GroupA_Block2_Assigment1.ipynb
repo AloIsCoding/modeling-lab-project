{
 "cells": [
  {
   "cell_type": "code",
   "execution_count": null,
   "id": "7d5a3a8e",
   "metadata": {},
   "outputs": [],
   "source": [
    "#trop des stars\n",
    "\n",
    "#trop des bars"
   ]
  }
 ],
 "metadata": {
  "language_info": {
   "name": "python"
  }
 },
 "nbformat": 4,
 "nbformat_minor": 5
}
